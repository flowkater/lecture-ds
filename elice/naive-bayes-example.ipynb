{
 "cells": [
  {
   "cell_type": "markdown",
   "metadata": {},
   "source": [
    "## 파이 구하기"
   ]
  },
  {
   "cell_type": "code",
   "execution_count": 28,
   "metadata": {
    "collapsed": true
   },
   "outputs": [],
   "source": [
    "import matplotlib.pyplot as plt\n",
    "%matplotlib inline\n",
    "\n",
    "import numpy as np"
   ]
  },
  {
   "cell_type": "code",
   "execution_count": 31,
   "metadata": {},
   "outputs": [
    {
     "name": "stdout",
     "output_type": "stream",
     "text": [
      "Estimated pi = 3.147600\n"
     ]
    }
   ],
   "source": [
    "N = 10000\n",
    "X = np.random.uniform(low=-1.0, high=1.0, size=N)\n",
    "Y = np.random.uniform(low=-1.0, high=1.0, size=N)\n",
    "\n",
    "distance_from_zero = np.sqrt(X * X + Y * Y)\n",
    "is_inside_circle = distance_from_zero <= 1\n",
    "\n",
    "print(\"Estimated pi = %f\" % (np.average(is_inside_circle) * 4))"
   ]
  },
  {
   "cell_type": "code",
   "execution_count": 18,
   "metadata": {},
   "outputs": [
    {
     "data": {
      "image/png": "[encoded data removed]",
      "text/plain": [
       "<matplotlib.figure.Figure at 0x1050ec198>"
      ]
     },
     "metadata": {},
     "output_type": "display_data"
    }
   ],
   "source": [
    "plt.figure(figsize=(5,5))\n",
    "plt.scatter(X, Y, c=is_inside_circle)\n",
    "plt.show()"
   ]
  },
  {
   "cell_type": "markdown",
   "metadata": {},
   "source": [
    "## 유방암 검사 키트"
   ]
  },
  {
   "cell_type": "code",
   "execution_count": 42,
   "metadata": {
    "collapsed": true
   },
   "outputs": [],
   "source": [
    "sensitivity = 0.8\n",
    "prior_prob = 0.004\n",
    "false_alarm = 0.1"
   ]
  },
  {
   "cell_type": "code",
   "execution_count": 33,
   "metadata": {},
   "outputs": [
    {
     "name": "stdout",
     "output_type": "stream",
     "text": [
      "3.11%\n"
     ]
    }
   ],
   "source": [
    "def mammogram_test(sensitivity, prior_prob, false_alarm):\n",
    "    p_a1_b1 = sensitivity # p(A = 1 | B = 1)\n",
    "\n",
    "    p_b1 = prior_prob # p(B = 1)\n",
    "\n",
    "    p_b0 = 1 - prior_prob # p(B = 0)\n",
    "\n",
    "    p_a1_b0 = false_alarm # p(A = 1|B = 0)\n",
    "\n",
    "    p_a1 = (p_a1_b0 * p_b0) + (p_a1_b1 * p_b1) # p(A = 1) = p(A = 1|B = 0)P(B = 0) + P(A = 1|B = 1)P(B = 1)\n",
    "\n",
    "    p_b1_a1 = (p_a1_b1 * p_b1) / p_a1 # p(B = 1|A = 1) = p(A = 1|B = 1)p(B = 1) / p(A = 1)\n",
    "\n",
    "    return p_b1_a1"
   ]
  },
  {
   "cell_type": "code",
   "execution_count": 43,
   "metadata": {},
   "outputs": [
    {
     "name": "stdout",
     "output_type": "stream",
     "text": [
      "3.11%\n"
     ]
    }
   ],
   "source": [
    "print(\"%.2lf%%\" % (100 * mammogram_test(sensitivity, prior_prob, false_alarm)))"
   ]
  },
  {
   "cell_type": "markdown",
   "metadata": {},
   "source": [
    "## 사탕 기계"
   ]
  },
  {
   "cell_type": "code",
   "execution_count": 40,
   "metadata": {},
   "outputs": [],
   "source": [
    "M1 = {'r': 0.7, 'g': 0.2, 'b': 0.1} # M1 기계의 사탕 비율\n",
    "M2 = {'r': 0.3, 'g': 0.4, 'b': 0.3} # M2 기계의 사탕 비율\n",
    "\n",
    "test = {'r': 4, 'g': 3, 'b': 3}"
   ]
  },
  {
   "cell_type": "code",
   "execution_count": 38,
   "metadata": {
    "collapsed": true
   },
   "outputs": [],
   "source": [
    "def naive_bayes(M1, M2, test, M1_prior, M2_prior):\n",
    "    p_M1 = ((M1['r'] ** test['r']) * (M1['g'] ** test['g']) * (M1['b'] ** test['b'])) * M1_prior\n",
    "    p_M2 = ((M2['r'] ** test['r']) * (M2['g'] ** test['g']) * (M2['b'] ** test['b'])) * M2_prior\n",
    "    \n",
    "    total = p_M1 + p_M2\n",
    "    \n",
    "    \n",
    "    return [p_M1 / total, p_M2 / total]"
   ]
  },
  {
   "cell_type": "code",
   "execution_count": 41,
   "metadata": {},
   "outputs": [
    {
     "data": {
      "text/plain": [
       "[0.24254275200230901, 0.757457247997691]"
      ]
     },
     "execution_count": 41,
     "metadata": {},
     "output_type": "execute_result"
    }
   ],
   "source": [
    "naive_bayes(M1, M2, test, 0.7, 0.3)"
   ]
  },
  {
   "cell_type": "markdown",
   "metadata": {},
   "source": [
    "## Bag of Words"
   ]
  },
  {
   "cell_type": "code",
   "execution_count": 49,
   "metadata": {
    "collapsed": true
   },
   "outputs": [],
   "source": [
    "sentence = \"Bag-of-Words 모델을 Python으로 직접 구현하겠습니다. 주어진 문장에 대해 Bag-of-Words 모델과 단어 사전을 만든 뒤, 단어 사전과 만들어진 bag-of-words를 같이 리턴해야 합니다.\""
   ]
  },
  {
   "cell_type": "code",
   "execution_count": 50,
   "metadata": {
    "scrolled": true
   },
   "outputs": [],
   "source": [
    "import re\n",
    "\n",
    "special_chars_remover = re.compile(\"[^\\w'|_]\")\n",
    "\n",
    "def remove_special_characters(sentence):\n",
    "    return special_chars_remover.sub(' ', sentence)"
   ]
  },
  {
   "cell_type": "code",
   "execution_count": 57,
   "metadata": {
    "collapsed": true
   },
   "outputs": [],
   "source": [
    "def create_BOW(sentence):\n",
    "    bow = {}\n",
    "    splitted_sentence = remove_special_characters(sentence.lower()).split()\n",
    "    tokens = [token for token in splitted_sentence if len(token) >= 1]\n",
    "    \n",
    "    for token in tokens:\n",
    "        if token not in bow:\n",
    "            bow[token] = 1\n",
    "        else:\n",
    "            bow[token] += 1\n",
    "    \n",
    "    return bow"
   ]
  },
  {
   "cell_type": "code",
   "execution_count": 58,
   "metadata": {},
   "outputs": [
    {
     "data": {
      "text/plain": [
       "{'bag': 3,\n",
       " 'of': 3,\n",
       " 'python으로': 1,\n",
       " 'words': 2,\n",
       " 'words를': 1,\n",
       " '같이': 1,\n",
       " '구현하겠습니다': 1,\n",
       " '단어': 2,\n",
       " '대해': 1,\n",
       " '뒤': 1,\n",
       " '리턴해야': 1,\n",
       " '만든': 1,\n",
       " '만들어진': 1,\n",
       " '모델과': 1,\n",
       " '모델을': 1,\n",
       " '문장에': 1,\n",
       " '사전과': 1,\n",
       " '사전을': 1,\n",
       " '주어진': 1,\n",
       " '직접': 1,\n",
       " '합니다': 1}"
      ]
     },
     "execution_count": 58,
     "metadata": {},
     "output_type": "execute_result"
    }
   ],
   "source": [
    "create_BOW(sentence)"
   ]
  }
 ],
 "metadata": {
  "kernelspec": {
   "display_name": "Python 3",
   "language": "python",
   "name": "python3"
  },
  "language_info": {
   "codemirror_mode": {
    "name": "ipython",
    "version": 3
   },
   "file_extension": ".py",
   "mimetype": "text/x-python",
   "name": "python",
   "nbconvert_exporter": "python",
   "pygments_lexer": "ipython3",
   "version": "3.6.3"
  }
 },
 "nbformat": 4,
 "nbformat_minor": 2
}
