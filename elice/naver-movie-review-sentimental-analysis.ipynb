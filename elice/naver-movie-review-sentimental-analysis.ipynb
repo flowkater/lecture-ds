{
 "cells": [
  {
   "cell_type": "code",
   "execution_count": 5,
   "metadata": {
    "collapsed": true
   },
   "outputs": [],
   "source": [
    "# https://github.com/e9t/nsmc"
   ]
  },
  {
   "cell_type": "code",
   "execution_count": 6,
   "metadata": {
    "collapsed": true
   },
   "outputs": [],
   "source": [
    "import io\n",
    "import numpy\n",
    "import matplotlib.pyplot as plt\n",
    "import numpy as np\n",
    "import re\n",
    "import math\n",
    "%matplotlib inline"
   ]
  },
  {
   "cell_type": "code",
   "execution_count": 10,
   "metadata": {
    "collapsed": true
   },
   "outputs": [],
   "source": [
    "special_chars_remover = re.compile(\"[^\\w'|_]\")\n",
    "\n",
    "def remove_special_characters(sentence):\n",
    "    return special_chars_remover.sub(' ', sentence)"
   ]
  },
  {
   "cell_type": "code",
   "execution_count": 11,
   "metadata": {
    "collapsed": true
   },
   "outputs": [],
   "source": [
    "def read_data():\n",
    "    training_sentences = [[], []]\n",
    "    \n",
    "    '''\n",
    "    숙제 1\n",
    "    여기서 파일을 읽어 training_sentences에 저장합니다.\n",
    "    '''\n",
    "    \n",
    "    return [' '.join(training_sentences[0]), ' '.join(training_sentences[1])]"
   ]
  },
  {
   "cell_type": "code",
   "execution_count": 12,
   "metadata": {
    "collapsed": true
   },
   "outputs": [],
   "source": [
    "def create_BOW(sentence):\n",
    "    bow = {}\n",
    "    \n",
    "    '''\n",
    "    숙제 2\n",
    "    이전 실습과 동일하게 bag of words를 만듭니다.\n",
    "    '''\n",
    "\n",
    "    return bow"
   ]
  },
  {
   "cell_type": "code",
   "execution_count": 13,
   "metadata": {
    "collapsed": true
   },
   "outputs": [],
   "source": [
    "def calculate_doc_prob(training_sentence, testing_sentence, alpha):\n",
    "    logprob = 0\n",
    "\n",
    "    training_model = create_BOW(training_sentence)\n",
    "    testing_model = create_BOW(testing_sentence)\n",
    "\n",
    "    '''\n",
    "    숙제 3\n",
    "    training_sentence로 만들어진 모델이,\n",
    "    testing_sentence를 만들어 낼 **로그 확률** 을 구합니다.\n",
    "    일반 숫자에서 로그값을 만들기 위해서는 math.log() 를 사용합니다.\n",
    "    \n",
    "    일반 숫자에서의 곱셈이 로그에서는 덧셈, 나눗셈은 뺄셈이 된다는 점에 유의하세요.\n",
    "    예) 3 * 5 = 15\n",
    "        log(3) + log(5) = log(15)\n",
    "        \n",
    "        5 / 2 = 2.5\n",
    "        log(5) - log(2) = log(2.5)\n",
    "    '''\n",
    "\n",
    "    return logprob"
   ]
  },
  {
   "cell_type": "code",
   "execution_count": 14,
   "metadata": {},
   "outputs": [],
   "source": [
    "def normalize_log_prob(prob1, prob2):\n",
    "    \n",
    "    '''\n",
    "    숙제 4\n",
    "    로그로 된 확률값을 표준화합니다.\n",
    "    이 부분은 이미 작성되어 있습니다.\n",
    "    '''\n",
    "    \n",
    "    maxprob = max(prob1, prob2)\n",
    "\n",
    "    prob1 -= maxprob\n",
    "    prob2 -= maxprob\n",
    "    prob1 = math.exp(prob1)\n",
    "    prob2 = math.exp(prob2)\n",
    "\n",
    "    normalize_constant = 1.0 / float(prob1 + prob2)\n",
    "    prob1 *= normalize_constant\n",
    "    prob2 *= normalize_constant\n",
    "\n",
    "    return (prob1, prob2)"
   ]
  },
  {
   "cell_type": "code",
   "execution_count": 15,
   "metadata": {
    "collapsed": true
   },
   "outputs": [],
   "source": [
    "def naive_bayes(training_sentences, testing_sentence):\n",
    "    log_prob_negative = calculate_doc_prob(training_sentences[0], testing_sentence, 0.1) + math.log(0.5)\n",
    "    log_prob_positive = calculate_doc_prob(training_sentences[1], testing_sentence, 0.1) + math.log(0.5)\n",
    "    prob_pair = normalize_log_prob(log_prob_negative, log_prob_positive)\n",
    "    \n",
    "    return prob_pair"
   ]
  },
  {
   "cell_type": "code",
   "execution_count": 16,
   "metadata": {
    "collapsed": true
   },
   "outputs": [],
   "source": [
    "def visualize_boxplot(title, values, labels):\n",
    "    width = .35\n",
    "\n",
    "    print(title)\n",
    "    \n",
    "    fig, ax = plt.subplots()\n",
    "    ind = numpy.arange(len(values))\n",
    "    rects = ax.bar(ind, values, width)\n",
    "    ax.bar(ind, values, width=width)\n",
    "    ax.set_xticks(ind + width/2)\n",
    "    ax.set_xticklabels(labels)\n",
    "\n",
    "    def autolabel(rects):\n",
    "        # attach some text labels\n",
    "        for rect in rects:\n",
    "            height = rect.get_height()\n",
    "            ax.text(rect.get_x()+rect.get_width()/2., height + 0.01, '%.2lf%%' % (height * 100), ha='center', va='bottom')\n",
    "\n",
    "    autolabel(rects)\n",
    "\n",
    "    plt.show()"
   ]
  },
  {
   "cell_type": "code",
   "execution_count": 17,
   "metadata": {},
   "outputs": [
    {
     "name": "stdout",
     "output_type": "stream",
     "text": [
      "어설픈 연기들로 몰입이 전혀 안되네요\n"
     ]
    },
    {
     "data": {
      "image/png": "[encoded data removed]",
      "text/plain": [
       "<matplotlib.figure.Figure at 0x10e066be0>"
      ]
     },
     "metadata": {},
     "output_type": "display_data"
    }
   ],
   "source": [
    "training_sentences = read_data()\n",
    "testing_sentence = \"어설픈 연기들로 몰입이 전혀 안되네요\"\n",
    "prob_pair = naive_bayes(training_sentences, testing_sentence)\n",
    "\n",
    "plot_title = testing_sentence\n",
    "if len(plot_title) > 50: plot_title = plot_title[:50] + \"...\"\n",
    "visualize_boxplot(plot_title,\n",
    "              list(prob_pair),\n",
    "              ['Negative', 'Positive'])"
   ]
  },
  {
   "cell_type": "code",
   "execution_count": null,
   "metadata": {
    "collapsed": true
   },
   "outputs": [],
   "source": []
  }
 ],
 "metadata": {
  "kernelspec": {
   "display_name": "Python 3",
   "language": "python",
   "name": "python3"
  },
  "language_info": {
   "codemirror_mode": {
    "name": "ipython",
    "version": 3
   },
   "file_extension": ".py",
   "mimetype": "text/x-python",
   "name": "python",
   "nbconvert_exporter": "python",
   "pygments_lexer": "ipython3",
   "version": "3.6.3"
  }
 },
 "nbformat": 4,
 "nbformat_minor": 2
}
